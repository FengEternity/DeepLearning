{
 "cells": [
  {
   "cell_type": "code",
   "execution_count": 58,
   "metadata": {},
   "outputs": [
    {
     "name": "stdout",
     "output_type": "stream",
     "text": [
      "CUDA is not available\n"
     ]
    }
   ],
   "source": [
    "import torch\n",
    "\n",
    "if torch.cuda.is_available():\n",
    "    device = torch.device(\"cuda\")\n",
    "    print(\"CUDA is available\")\n",
    "else:\n",
    "    device = torch.device(\"cpu\")\n",
    "    print(\"CUDA is not available\")"
   ]
  },
  {
   "cell_type": "code",
   "execution_count": 59,
   "metadata": {},
   "outputs": [
    {
     "name": "stdout",
     "output_type": "stream",
     "text": [
      "['test', 'train']\n",
      "/Users/montylee/Documents/GitHub/DeepLearning/pytorch/P5/datasets/train\n",
      "/Users/montylee/Documents/GitHub/DeepLearning/pytorch/P5/datasets/test\n"
     ]
    }
   ],
   "source": [
    "import pathlib\n",
    "\n",
    "data_dir = '/Users/montylee/Documents/GitHub/DeepLearning/pytorch/P5/datasets'\n",
    "data_dir = pathlib.Path(data_dir)\n",
    "\n",
    "data_paths = list(data_dir.glob('*'))\n",
    "classNames = [str(path).split('/')[-1] for path in data_paths]\n",
    "print(classNames)\n",
    "\n",
    "train_dir = data_dir / 'train'\n",
    "test_dir = data_dir / 'test'\n",
    "print(train_dir)\n",
    "print(test_dir)"
   ]
  },
  {
   "cell_type": "code",
   "execution_count": 60,
   "metadata": {},
   "outputs": [],
   "source": [
    "from torchvision import datasets, transforms\n",
    "\n",
    "train_transforms = transforms.Compose([\n",
    "    transforms.Resize([224,224]),\n",
    "    transforms.RandomHorizontalFlip(), # 随机翻转和旋转\n",
    "    transforms.ToTensor(),\n",
    "    transforms.Normalize(mean = [0.485, 0.456, 0.406], # 均值\n",
    "                         std = [0.229, 0.224, 0.225]) # 方差\n",
    "])\n",
    "\n",
    "test_transforms = transforms.Compose([\n",
    "    transforms.Resize([224,224]),\n",
    "    transforms.ToTensor(),\n",
    "    transforms.Normalize(mean = [0.485, 0.456, 0.406], # 均值\n",
    "                            std = [0.229, 0.224, 0.225]) # 方差\n",
    "])\n",
    "\n",
    "train_data = datasets.ImageFolder(train_dir, transform = train_transforms)\n",
    "test_data = datasets.ImageFolder(test_dir, transform = test_transforms)"
   ]
  },
  {
   "cell_type": "code",
   "execution_count": 61,
   "metadata": {},
   "outputs": [
    {
     "data": {
      "text/plain": [
       "{'adidas': 0, 'nike': 1}"
      ]
     },
     "execution_count": 61,
     "metadata": {},
     "output_type": "execute_result"
    }
   ],
   "source": [
    "train_data.class_to_idx"
   ]
  },
  {
   "cell_type": "code",
   "execution_count": 62,
   "metadata": {},
   "outputs": [],
   "source": [
    "batch_size = 32\n",
    "train_dl = torch.utils.data.DataLoader(train_data, \n",
    "                                       batch_size = batch_size, \n",
    "                                       shuffle = True, \n",
    "                                       num_workers = 1,\n",
    "                                       drop_last = True)\n",
    "test_dl = torch.utils.data.DataLoader(test_data, \n",
    "                                      batch_size = batch_size, \n",
    "                                      shuffle = True, \n",
    "                                      num_workers = 1,\n",
    "                                      drop_last = True)"
   ]
  },
  {
   "attachments": {},
   "cell_type": "markdown",
   "metadata": {},
   "source": [
    "num_workers 参数用于指定数据加载器中用于加载数据的子进程数量。这个参数的默认值为 0，表示在主进程中直接加载数据，没有使用子进程。如果您将 num_workers 设置为大于 0 的值，那么数据加载器将会使用多个子进程来并行加载数据，从而加快数据加载速度。\n",
    "\n",
    "在这个代码中，num_workers = 1 表示数据加载器将使用一个子进程来加载数据。这个值通常是一个比较好的默认值，可以在大多数情况下提高数据加载速度，同时不会占用太多系统资源。如果您的系统有更多的 CPU 核心可用，并且数据集非常大，则可以将 num_workers 设置为更高的值，以进一步加速数据加载。\n",
    "\n",
    "需要注意的是，如果您将 num_workers 设置为大于 0 的值，则需要确保您的代码可以在多个进程中运行，并且可以正确地共享内存。在某些情况下，使用多个子进程来加载数据可能会导致一些问题，例如死锁、内存泄漏等num_workers 参数用于指定数据加载器中用于加载数据的子进程数量。这个参数的默认值为 0，表示在主进程中直接加载数据，没有使用子进程。如果您将 num_workers 设置为大于 0 的值，那么数据加载器将会使用多个子进程来并行加载数据，从而加快数据加载速度。"
   ]
  },
  {
   "cell_type": "code",
   "execution_count": 63,
   "metadata": {},
   "outputs": [
    {
     "name": "stdout",
     "output_type": "stream",
     "text": [
      "torch.Size([32, 3, 224, 224]) torch.Size([32])\n"
     ]
    }
   ],
   "source": [
    "for x, y in train_dl:\n",
    "    print(x.shape, y.shape)\n",
    "    break"
   ]
  },
  {
   "cell_type": "code",
   "execution_count": 64,
   "metadata": {},
   "outputs": [],
   "source": [
    "import torch.nn.functional as F\n",
    "import torch.nn as nn\n",
    "\n",
    "class Model(nn.Module):\n",
    "    def __init__(self):\n",
    "        super(Model, self).__init__()\n",
    "        self.conv1 = nn.Sequential(\n",
    "            nn.Conv2d(3, 12,kernel_size = 5,padding = 0),\n",
    "            nn.BatchNorm2d(12),\n",
    "            nn.ReLU()\n",
    "        )\n",
    "\n",
    "        self.dropout = nn.Dropout(0.4)\n",
    "\n",
    "        self.conv2 = nn.Sequential(\n",
    "            nn.Conv2d(12, 12,kernel_size = 5,padding = 0),\n",
    "            nn.BatchNorm2d(12),\n",
    "            nn.ReLU()\n",
    "        )\n",
    "\n",
    "        self.pool3 = nn.MaxPool2d(2)\n",
    "\n",
    "        self.dropout = nn.Dropout(0.4)\n",
    "\n",
    "        self.conv4 = nn.Sequential(\n",
    "            nn.Conv2d(12, 24,kernel_size = 5,padding = 0),\n",
    "            nn.BatchNorm2d(24),\n",
    "            nn.ReLU()\n",
    "        )\n",
    "\n",
    "        self.dropout = nn.Dropout(0.4)\n",
    "\n",
    "        self.conv5 = nn.Sequential(\n",
    "            nn.Conv2d(24, 24,kernel_size = 5,padding = 0),\n",
    "            nn.BatchNorm2d(24),\n",
    "            nn.ReLU()\n",
    "        )\n",
    "\n",
    "        self.dropout = nn.Dropout(0.4)\n",
    "\n",
    "        self.pool6 = nn.MaxPool2d(2)\n",
    "\n",
    "        self.dropout = nn.Dropout(0.4)\n",
    "\n",
    "        self.fc = nn.Linear(24 * 50 * 50, len(classNames))\n",
    "\n",
    "    def forward(self, x):\n",
    "        batch_size = x.size(0)\n",
    "        x = self.conv1(x)\n",
    "        x = self.dropout(x)\n",
    "        # print(x.shape)\n",
    "        x = self.conv2(x)\n",
    "        x = self.dropout(x)\n",
    "        # print(x.shape)\n",
    "        x = self.pool3(x)\n",
    "        x = self.dropout(x)\n",
    "        # print(x.shape)\n",
    "        x = self.conv4(x)\n",
    "        x = self.dropout(x)\n",
    "        # print(x.shape)\n",
    "        x = self.conv5(x)\n",
    "        x = self.dropout(x)\n",
    "        # print(x.shape)\n",
    "        x = self.pool6(x)\n",
    "        # print(x.shape)\n",
    "        x = self.dropout(x)\n",
    "        # print(x.shape)\n",
    "        x = x.view(batch_size,-1)\n",
    "        # print(x.shape)\n",
    "        x = self.fc(x)\n",
    "        # print(x.shape)\n",
    "        # print()\n",
    "        return x\n",
    "    \n",
    "\n",
    "model = Model().to(device)\n",
    "# print(model)"
   ]
  },
  {
   "attachments": {},
   "cell_type": "markdown",
   "metadata": {},
   "source": [
    "正则化是一种常用的减少模型复杂度的方法，它通过在模型的损失函数中添加一个正则项来惩罚模型的复杂度，从而降低过拟合的风险。以下是两种常用的正则化方法：\n",
    "\n",
    "1. L1/L2 正则化\n",
    "\n",
    "L1/L2 正则化是一种常用的正则化方法，它通过在模型的损失函数中添加一个 L1/L2 正则项来惩罚模型的复杂度。L1 正则化会使得一些参数变为 0，从而实现特征选择的作用；而 L2 正则化则会使得所有参数都变得很小，从而使模型更加平滑。L1/L2 正则化可以通过在模型的损失函数中添加如下正则项来实现：\n",
    "\n",
    "L1 正则化： $loss = \\text{cross-entropy loss} + \\lambda \\sum_i |w_i|$\n",
    "\n",
    "L2 正则化： $loss = \\text{cross-entropy loss} + \\frac{\\lambda}{2} \\sum_i w_i^2$\n",
    "\n",
    "其中，$\\lambda是正则化强度的超参数，可以通过调整它的值来控制正则化的程度。\n",
    "\n",
    "2. Dropout\n",
    "\n",
    "Dropout 是一种基于随机失活的正则化方法，它可以通过在训练过程中随机地将一些节点的输出设置为 0，从而减少模型的复杂度。具体来说，Dropout 在每次训练迭代中随机选择一些节点进行失活，从而强制模型不依赖于任何单一的节点，使得模型更加鲁棒。在测试过程中，所有节点都是激活的，但是每个节点的输出会乘以一个与失活概率相关的缩放因子，以便与训练过程中保持相同的期望输出。\n",
    "\n",
    "在 PyTorch 中，可以通过在模型的定义中添加 `nn.Dropout` 层来实现 Dropout 正则化。例如：\n",
    "\n",
    "```python\n",
    "import torch.nn as nn\n",
    "\n",
    "class MyModel(nn.Module):\n",
    "    def __init__(self):\n",
    "        super(MyModel, self).__init__()\n",
    "        self.fc1 = nn.Linear(10, 20)\n",
    "        self.dropout = nn.Dropout(p=0.5)\n",
    "```        \n",
    "\n",
    "在上面的代码中，`nn.Dropout(p=0.5)` 表示在训练过程中每个节点有 50% 的概率被随机失活。这可以通过减少模型的复杂度，从而降低过拟合的风险。\n",
    "\n",
    "除了 L1/L2 正则化和 Dropout，还有其他一些正则化方法，如弹性网络（Elastic Net）、最大范数约束（Max Norm Constraint）等。选择合适的正则化方法需要根据具体的问题和数据集进行调整和选择。"
   ]
  },
  {
   "cell_type": "code",
   "execution_count": 65,
   "metadata": {},
   "outputs": [],
   "source": [
    "# 训练函数\n",
    "def train(dataloader, model, loss_fn, optimizer):\n",
    "    size = len(dataloader.dataset)\n",
    "    num_batches = len(dataloader)\n",
    "\n",
    "    train_loss, train_acc = 0, 0\n",
    "    for x, y in dataloader:\n",
    "        x, y  = x.to(device), y.to(device)\n",
    "\n",
    "        # Compute prediction error\n",
    "        pred = model(x) # 网络输出\n",
    "        loss = loss_fn(pred, y) # 计算损失\n",
    "\n",
    "        optimizer.zero_grad() # 梯度清零\n",
    "        loss.backward() # 反向传播\n",
    "        optimizer.step() # 更新参数\n",
    "\n",
    "        train_acc += (pred.argmax(1) == y).type(torch.float).sum().item()\n",
    "        train_loss += loss.item()\n",
    "\n",
    "    train_acc /= size\n",
    "    train_loss /= num_batches\n",
    "\n",
    "    return train_acc, train_loss\n",
    "\n",
    "\n",
    "# 测试函数\n",
    "def test(dataloader, model, loss_fn):\n",
    "    size = len(dataloader.dataset)\n",
    "    num_batches = len(dataloader)\n",
    "\n",
    "    test_loss, test_acc = 0, 0\n",
    "    with torch.no_grad():\n",
    "        for x, y in dataloader:\n",
    "            x, y  = x.to(device), y.to(device)\n",
    "\n",
    "            pred = model(x)\n",
    "            loss = loss_fn(pred, y)\n",
    "            \n",
    "            test_loss += loss_fn(pred, y).item()\n",
    "            test_acc += (pred.argmax(1) == y).type(torch.float).sum().item()\n",
    "\n",
    "    test_acc /= size\n",
    "    test_loss /= num_batches\n",
    "\n",
    "    return test_acc, test_loss"
   ]
  },
  {
   "cell_type": "code",
   "execution_count": 66,
   "metadata": {},
   "outputs": [],
   "source": [
    "# 设置动态学习率\n",
    "\n",
    "def adjust_learning_rate(optimizer, epoch, start_lr):\n",
    "    # 每两个 epoch 衰减为原学习率的 0.92\n",
    "    lr = start_lr * (0.92 ** (epoch // 2))\n",
    "\n",
    "    for param_group in optimizer.param_groups:\n",
    "        param_group['lr'] = lr\n",
    "\n",
    "# 调用官方动态学习率接口\n",
    "# from torch.optim.lr_scheduler import LambdaLR\n",
    "# lambda1 = lambda epoch: 0.98 ** (epoch // 2)\n",
    "# optimizer = torch.optim.SGD(model.parameters(), lr = 0.1)\n",
    "# scheduler = LambdaLR(optimizer, lr_lambda = lambda1)\n",
    "\n",
    "\n",
    "learning_rate = 1e-3\n",
    "optimizer = torch.optim.SGD(model.parameters(), lr = learning_rate)"
   ]
  },
  {
   "cell_type": "code",
   "execution_count": 67,
   "metadata": {},
   "outputs": [
    {
     "name": "stderr",
     "output_type": "stream",
     "text": [
      "  3%|▎         | 1/30 [00:45<22:02, 45.61s/it]"
     ]
    },
    {
     "name": "stdout",
     "output_type": "stream",
     "text": [
      "Epoch: 1, Train_acc:49.0%, Train_loss:12.604, Test_acc:40.8%, Test_loss:0.822\n"
     ]
    },
    {
     "name": "stderr",
     "output_type": "stream",
     "text": [
      "  7%|▋         | 2/30 [01:31<21:13, 45.49s/it]"
     ]
    },
    {
     "name": "stdout",
     "output_type": "stream",
     "text": [
      "Epoch: 2, Train_acc:48.8%, Train_loss:5.517, Test_acc:39.5%, Test_loss:1.138\n"
     ]
    },
    {
     "name": "stderr",
     "output_type": "stream",
     "text": [
      " 10%|█         | 3/30 [02:16<20:27, 45.45s/it]"
     ]
    },
    {
     "name": "stdout",
     "output_type": "stream",
     "text": [
      "Epoch: 3, Train_acc:53.6%, Train_loss:2.685, Test_acc:51.3%, Test_loss:0.705\n"
     ]
    },
    {
     "name": "stderr",
     "output_type": "stream",
     "text": [
      " 13%|█▎        | 4/30 [03:01<19:39, 45.38s/it]"
     ]
    },
    {
     "name": "stdout",
     "output_type": "stream",
     "text": [
      "Epoch: 4, Train_acc:54.4%, Train_loss:2.445, Test_acc:40.8%, Test_loss:1.429\n"
     ]
    },
    {
     "name": "stderr",
     "output_type": "stream",
     "text": [
      " 17%|█▋        | 5/30 [03:47<18:56, 45.46s/it]"
     ]
    },
    {
     "name": "stdout",
     "output_type": "stream",
     "text": [
      "Epoch: 5, Train_acc:54.4%, Train_loss:2.371, Test_acc:43.4%, Test_loss:1.480\n"
     ]
    },
    {
     "name": "stderr",
     "output_type": "stream",
     "text": [
      " 20%|██        | 6/30 [04:32<18:10, 45.43s/it]"
     ]
    },
    {
     "name": "stdout",
     "output_type": "stream",
     "text": [
      "Epoch: 6, Train_acc:56.2%, Train_loss:1.622, Test_acc:43.4%, Test_loss:1.062\n"
     ]
    },
    {
     "name": "stderr",
     "output_type": "stream",
     "text": [
      " 23%|██▎       | 7/30 [05:18<17:26, 45.51s/it]"
     ]
    },
    {
     "name": "stdout",
     "output_type": "stream",
     "text": [
      "Epoch: 7, Train_acc:55.8%, Train_loss:1.521, Test_acc:44.7%, Test_loss:1.125\n"
     ]
    },
    {
     "name": "stderr",
     "output_type": "stream",
     "text": [
      " 27%|██▋       | 8/30 [06:03<16:39, 45.44s/it]"
     ]
    },
    {
     "name": "stdout",
     "output_type": "stream",
     "text": [
      "Epoch: 8, Train_acc:49.4%, Train_loss:2.145, Test_acc:36.8%, Test_loss:1.360\n"
     ]
    },
    {
     "name": "stderr",
     "output_type": "stream",
     "text": [
      " 30%|███       | 9/30 [06:48<15:53, 45.40s/it]"
     ]
    },
    {
     "name": "stdout",
     "output_type": "stream",
     "text": [
      "Epoch: 9, Train_acc:61.2%, Train_loss:1.302, Test_acc:35.5%, Test_loss:0.733\n"
     ]
    },
    {
     "name": "stderr",
     "output_type": "stream",
     "text": [
      " 33%|███▎      | 10/30 [07:34<15:07, 45.37s/it]"
     ]
    },
    {
     "name": "stdout",
     "output_type": "stream",
     "text": [
      "Epoch:10, Train_acc:58.0%, Train_loss:1.068, Test_acc:40.8%, Test_loss:0.816\n"
     ]
    },
    {
     "name": "stderr",
     "output_type": "stream",
     "text": [
      " 37%|███▋      | 11/30 [08:19<14:22, 45.39s/it]"
     ]
    },
    {
     "name": "stdout",
     "output_type": "stream",
     "text": [
      "Epoch:11, Train_acc:54.2%, Train_loss:1.474, Test_acc:44.7%, Test_loss:0.954\n"
     ]
    },
    {
     "name": "stderr",
     "output_type": "stream",
     "text": [
      " 40%|████      | 12/30 [09:05<13:36, 45.38s/it]"
     ]
    },
    {
     "name": "stdout",
     "output_type": "stream",
     "text": [
      "Epoch:12, Train_acc:60.2%, Train_loss:1.121, Test_acc:46.1%, Test_loss:1.230\n"
     ]
    },
    {
     "name": "stderr",
     "output_type": "stream",
     "text": [
      " 43%|████▎     | 13/30 [09:50<12:52, 45.43s/it]"
     ]
    },
    {
     "name": "stdout",
     "output_type": "stream",
     "text": [
      "Epoch:13, Train_acc:62.0%, Train_loss:1.140, Test_acc:44.7%, Test_loss:1.031\n"
     ]
    },
    {
     "name": "stderr",
     "output_type": "stream",
     "text": [
      " 47%|████▋     | 14/30 [10:38<12:17, 46.10s/it]"
     ]
    },
    {
     "name": "stdout",
     "output_type": "stream",
     "text": [
      "Epoch:14, Train_acc:57.8%, Train_loss:0.986, Test_acc:44.7%, Test_loss:0.661\n"
     ]
    },
    {
     "name": "stderr",
     "output_type": "stream",
     "text": [
      " 50%|█████     | 15/30 [11:26<11:41, 46.76s/it]"
     ]
    },
    {
     "name": "stdout",
     "output_type": "stream",
     "text": [
      "Epoch:15, Train_acc:64.5%, Train_loss:0.910, Test_acc:47.4%, Test_loss:0.661\n"
     ]
    },
    {
     "name": "stderr",
     "output_type": "stream",
     "text": [
      " 53%|█████▎    | 16/30 [12:12<10:52, 46.61s/it]"
     ]
    },
    {
     "name": "stdout",
     "output_type": "stream",
     "text": [
      "Epoch:16, Train_acc:61.6%, Train_loss:0.884, Test_acc:43.4%, Test_loss:0.748\n"
     ]
    },
    {
     "name": "stderr",
     "output_type": "stream",
     "text": [
      " 57%|█████▋    | 17/30 [12:58<10:03, 46.39s/it]"
     ]
    },
    {
     "name": "stdout",
     "output_type": "stream",
     "text": [
      "Epoch:17, Train_acc:61.0%, Train_loss:1.025, Test_acc:44.7%, Test_loss:0.792\n"
     ]
    },
    {
     "name": "stderr",
     "output_type": "stream",
     "text": [
      " 60%|██████    | 18/30 [13:44<09:14, 46.19s/it]"
     ]
    },
    {
     "name": "stdout",
     "output_type": "stream",
     "text": [
      "Epoch:18, Train_acc:64.1%, Train_loss:0.868, Test_acc:50.0%, Test_loss:0.699\n"
     ]
    },
    {
     "name": "stderr",
     "output_type": "stream",
     "text": [
      " 63%|██████▎   | 19/30 [14:29<08:25, 45.96s/it]"
     ]
    },
    {
     "name": "stdout",
     "output_type": "stream",
     "text": [
      "Epoch:19, Train_acc:62.9%, Train_loss:0.964, Test_acc:56.6%, Test_loss:0.660\n"
     ]
    },
    {
     "name": "stderr",
     "output_type": "stream",
     "text": [
      " 67%|██████▋   | 20/30 [15:15<07:38, 45.87s/it]"
     ]
    },
    {
     "name": "stdout",
     "output_type": "stream",
     "text": [
      "Epoch:20, Train_acc:59.4%, Train_loss:0.884, Test_acc:52.6%, Test_loss:0.677\n"
     ]
    },
    {
     "name": "stderr",
     "output_type": "stream",
     "text": [
      " 70%|███████   | 21/30 [16:01<06:52, 45.82s/it]"
     ]
    },
    {
     "name": "stdout",
     "output_type": "stream",
     "text": [
      "Epoch:21, Train_acc:56.2%, Train_loss:1.168, Test_acc:44.7%, Test_loss:0.754\n"
     ]
    },
    {
     "name": "stderr",
     "output_type": "stream",
     "text": [
      " 73%|███████▎  | 22/30 [16:46<06:06, 45.77s/it]"
     ]
    },
    {
     "name": "stdout",
     "output_type": "stream",
     "text": [
      "Epoch:22, Train_acc:60.0%, Train_loss:1.026, Test_acc:44.7%, Test_loss:0.747\n"
     ]
    },
    {
     "name": "stderr",
     "output_type": "stream",
     "text": [
      " 77%|███████▋  | 23/30 [17:32<05:19, 45.66s/it]"
     ]
    },
    {
     "name": "stdout",
     "output_type": "stream",
     "text": [
      "Epoch:23, Train_acc:60.4%, Train_loss:0.943, Test_acc:47.4%, Test_loss:0.699\n"
     ]
    },
    {
     "name": "stderr",
     "output_type": "stream",
     "text": [
      " 80%|████████  | 24/30 [18:18<04:34, 45.74s/it]"
     ]
    },
    {
     "name": "stdout",
     "output_type": "stream",
     "text": [
      "Epoch:24, Train_acc:68.9%, Train_loss:0.645, Test_acc:36.8%, Test_loss:0.745\n"
     ]
    },
    {
     "name": "stderr",
     "output_type": "stream",
     "text": [
      " 83%|████████▎ | 25/30 [19:03<03:48, 45.75s/it]"
     ]
    },
    {
     "name": "stdout",
     "output_type": "stream",
     "text": [
      "Epoch:25, Train_acc:66.9%, Train_loss:0.783, Test_acc:52.6%, Test_loss:0.666\n"
     ]
    },
    {
     "name": "stderr",
     "output_type": "stream",
     "text": [
      " 87%|████████▋ | 26/30 [19:49<03:02, 45.70s/it]"
     ]
    },
    {
     "name": "stdout",
     "output_type": "stream",
     "text": [
      "Epoch:26, Train_acc:65.3%, Train_loss:0.929, Test_acc:46.1%, Test_loss:0.885\n"
     ]
    },
    {
     "name": "stderr",
     "output_type": "stream",
     "text": [
      " 90%|█████████ | 27/30 [20:35<02:17, 45.73s/it]"
     ]
    },
    {
     "name": "stdout",
     "output_type": "stream",
     "text": [
      "Epoch:27, Train_acc:66.9%, Train_loss:0.770, Test_acc:51.3%, Test_loss:0.699\n"
     ]
    },
    {
     "name": "stderr",
     "output_type": "stream",
     "text": [
      " 93%|█████████▎| 28/30 [21:21<01:31, 45.73s/it]"
     ]
    },
    {
     "name": "stdout",
     "output_type": "stream",
     "text": [
      "Epoch:28, Train_acc:65.1%, Train_loss:0.810, Test_acc:47.4%, Test_loss:0.788\n"
     ]
    },
    {
     "name": "stderr",
     "output_type": "stream",
     "text": [
      " 97%|█████████▋| 29/30 [24:58<01:37, 97.23s/it]"
     ]
    },
    {
     "name": "stdout",
     "output_type": "stream",
     "text": [
      "Epoch:29, Train_acc:68.7%, Train_loss:0.655, Test_acc:47.4%, Test_loss:0.753\n"
     ]
    },
    {
     "name": "stderr",
     "output_type": "stream",
     "text": [
      "100%|██████████| 30/30 [25:46<00:00, 51.54s/it]"
     ]
    },
    {
     "name": "stdout",
     "output_type": "stream",
     "text": [
      "Epoch:30, Train_acc:63.5%, Train_loss:0.970, Test_acc:43.4%, Test_loss:0.767\n",
      "Done\n"
     ]
    },
    {
     "name": "stderr",
     "output_type": "stream",
     "text": [
      "\n"
     ]
    }
   ],
   "source": [
    "from tqdm import tqdm\n",
    "\n",
    "epoches = 30\n",
    "loss_fn = nn.CrossEntropyLoss()\n",
    "train_loss = []\n",
    "train_acc = []\n",
    "test_loss = []\n",
    "test_acc = []\n",
    "\n",
    "for epoch in tqdm(range(epoches)):\n",
    "    model.train()\n",
    "    epoch_train_acc, epoch_train_loss = train(train_dl, model, loss_fn, optimizer)\n",
    "\n",
    "    model.eval()\n",
    "    epoch_test_acc, epoch_test_loss = test(test_dl, model, loss_fn)\n",
    "\n",
    "    train_acc.append(epoch_train_acc)\n",
    "    train_loss.append(epoch_train_loss)\n",
    "    test_acc.append(epoch_test_acc)\n",
    "    test_loss.append(epoch_test_loss)\n",
    "\n",
    "    template = ('Epoch:{:2d}, Train_acc:{:.1f}%, Train_loss:{:.3f}, Test_acc:{:.1f}%, Test_loss:{:.3f}') \n",
    "    tqdm.write(template.format(epoch+1, epoch_train_acc*100, epoch_train_loss, epoch_test_acc*100, epoch_test_loss))\n",
    "    \n",
    "print('Done')"
   ]
  },
  {
   "attachments": {},
   "cell_type": "markdown",
   "metadata": {},
   "source": [
    "在机器学习中，loss（损失）和accuracy（准确率）是两个常用的评价指标，用于衡量模型在训练和测试过程中的表现。\n",
    "\n",
    "* loss表示模型在训练过程中的错误程度，通常用于优化模型。在训练过程中，模型通过最小化loss来调整权重和偏置，从而提高模型的预测准确性。通常情况下，loss越小，表示模型的拟合效果越好。\n",
    "\n",
    "* accuracy表示模型在预测时正确分类的样本数量与总样本数量之比，通常用于评估模型的性能。在二分类问题中，accuracy可以简单地表示为预测正确的正样本和负样本的数量之和除以总样本数量。在多分类问题中，accuracy可以表示为预测正确的样本数除以总样本数。通常情况下，accuracy越高，表示模型的预测效果越好。\n",
    "\n",
    "loss和accuracy的**区别在于它们所衡量的目标不同**。\n",
    "\n",
    "* loss关注的是模型的训练效果，即模型能否正确地拟合数据，\n",
    "* 而accuracy关注的是模型的预测效果，即模型能否正确地分类数据。\n",
    "  \n",
    "换句话说，loss是用于指导模型如何学习，而accuracy则是用于评估模型的性能。\n",
    "\n",
    "另外，需要注意的是，**loss和accuracy不一定是完全相反的指标**。有时候，一个模型的loss可以很小，但是accuracy仍然很低，这可能是因为模型在过度拟合数据。因此，在评估模型性能时，我们通常需要综合考虑多个指标，而不是单纯地关注其中一个指标。"
   ]
  },
  {
   "attachments": {},
   "cell_type": "markdown",
   "metadata": {},
   "source": [
    "> 训练集准确率快速上升到90%，测试集在60%左右波动是为什么？\n",
    "> \n",
    "> 训练集准确率快速上升到90%，而测试集准确率在60%左右波动的原因可能是过拟合（overfitting）。\n",
    "> \n",
    "> * 过拟合是指模型在训练集上表现很好，但在测试集上表现不佳的现象。这通常是由于模型过于复杂，从而可以很好地拟合训练集中的噪声和细节，但无法泛化到测试集中的新数据。\n",
    ">\n",
    "> * 当训练集准确率快速上升到90%时，可能表示模型已经过度拟合了训练集，即模型过于复杂，可以完美地匹配训练集中的每个样本。这可能导致模型过于敏感，对于训练集中的噪声和细节也有很好的拟合，但无法泛化到测试集中的新数据。\n",
    ">\n",
    "> 为了解决过拟合问题，您可以采取以下措施：\n",
    ">\n",
    "> * 减少模型的复杂度：可以通过减少模型的层数、节点数或使用正则化方法（如 L1/L2 正则化、dropout 等）来减少模型的复杂度，从而降低过拟合的风险。\n",
    ">\n",
    "> * 增加训练数据量：可以通过增加训练数据量来减少过拟合的风险。更多的训练数据可以帮助模型更好地学习数据的分布，从而减少对噪声和细节的过度拟合。\n",
    ">\n",
    "> * 早停法（early stopping）：可以在训练过程中监控测试集的准确率或损失，并在测试集准确率或损失开始上升时停止训练，从而避免模型过度拟合训练集。\n",
    ">\n",
    "> * 数据增强（data augmentation）：可以通过对训练数据进行随机变换（如旋转、缩放、平移等）来增加训练数据的多样性和数量，从而减少过拟合的风险。\n",
    ">\n",
    "> * 模型集成（model ensemble）：可以通过将多个模型的预测结果进行加权平均或投票来提高模型的泛化能力和鲁棒性，从而减少过拟合的风险。\n",
    ">\n",
    "> 除了上述措施，还可以通过交叉验证（cross-validation）等方法来评估模型的性能和泛化能力，从而更好地了解模型的优劣和改进方向。"
   ]
  },
  {
   "cell_type": "code",
   "execution_count": 68,
   "metadata": {},
   "outputs": [
    {
     "data": {
      "image/png": "[encoded data removed]",
      "text/plain": [
       "<Figure size 1200x300 with 2 Axes>"
      ]
     },
     "metadata": {},
     "output_type": "display_data"
    }
   ],
   "source": [
    "import matplotlib.pyplot as plt\n",
    "\n",
    "epochs_range = range(epoches)\n",
    "# print(epochs_range)\n",
    "\n",
    "plt.figure(figsize = (12, 3))\n",
    "plt.subplot(1, 2, 1)\n",
    "plt.plot(epochs_range, train_acc, label = 'Training Accuracy')\n",
    "plt.plot(epochs_range, test_acc, label = 'Test Accuracy')\n",
    "plt.xlim((0,epoches))\n",
    "plt.xticks(range(0,epoches+2,2))\n",
    "plt.legend()\n",
    "plt.title('Training and Validation Accuracy')\n",
    "\n",
    "plt.subplot(1, 2, 2)\n",
    "plt.plot(epochs_range, train_loss, label = 'Training Loss')\n",
    "plt.plot(epochs_range, test_loss, label = 'Test Loss')\n",
    "plt.xlim((0,epoches))\n",
    "plt.xticks(range(0,epoches+2,2))\n",
    "plt.legend()\n",
    "plt.title('Training and Validation Loss')\n",
    "plt.show()"
   ]
  },
  {
   "cell_type": "code",
   "execution_count": 69,
   "metadata": {},
   "outputs": [
    {
     "name": "stdout",
     "output_type": "stream",
     "text": [
      "预测结果：nike\n"
     ]
    }
   ],
   "source": [
    "# 指定图片预测\n",
    "from PIL import Image\n",
    "claeees = list(train_data.class_to_idx)\n",
    "\n",
    "def predict_image(image_path, model, transform, classes):\n",
    "    test_img = Image.open(image_path).convert('RGB')\n",
    "    # plt.imshow(test_img)\n",
    "\n",
    "    test_img_tensor = transform(test_img)\n",
    "    img = test_img_tensor.to(device).unsqueeze(0)\n",
    "\n",
    "    model.eval()\n",
    "    output = model(img)\n",
    "\n",
    "    _,pred = torch.max(output, 1)\n",
    "    pred_class = classes[pred]\n",
    "    print(f'预测结果：{pred_class}')\n",
    "\n",
    "\n",
    "predict_image(image_path='/Users/montylee/Documents/GitHub/DeepLearning/pytorch/P5/datasets/train/nike/1 (7).jpg',\n",
    "              model = model,\n",
    "              transform = train_transforms,\n",
    "              classes = claeees)\n",
    "\n"
   ]
  },
  {
   "cell_type": "code",
   "execution_count": 70,
   "metadata": {},
   "outputs": [
    {
     "data": {
      "text/plain": [
       "<All keys matched successfully>"
      ]
     },
     "execution_count": 70,
     "metadata": {},
     "output_type": "execute_result"
    }
   ],
   "source": [
    "# 模型保存 \n",
    "\n",
    "PATH = './model.pth' # 保存的参数文件名 \n",
    "torch.save(model.state_dict(), PATH) # 将参数加载到model当中 \n",
    "model.load_state_dict(torch.load(PATH, map_location=device))"
   ]
  }
 ],
 "metadata": {
  "kernelspec": {
   "display_name": "pytorch",
   "language": "python",
   "name": "python3"
  },
  "language_info": {
   "codemirror_mode": {
    "name": "ipython",
    "version": 3
   },
   "file_extension": ".py",
   "mimetype": "text/x-python",
   "name": "python",
   "nbconvert_exporter": "python",
   "pygments_lexer": "ipython3",
   "version": "3.10.11"
  },
  "orig_nbformat": 4
 },
 "nbformat": 4,
 "nbformat_minor": 2
}
