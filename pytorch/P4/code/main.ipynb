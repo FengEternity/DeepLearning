{
 "cells": [
  {
   "cell_type": "code",
   "execution_count": 3,
   "metadata": {},
   "outputs": [
    {
     "data": {
      "text/plain": [
       "device(type='cpu')"
      ]
     },
     "execution_count": 3,
     "metadata": {},
     "output_type": "execute_result"
    }
   ],
   "source": [
    "import torch\n",
    "import torch.nn as nn\n",
    "import torch.nn.functional as F\n",
    "import torchvision\n",
    "from torchvision import datasets, transforms\n",
    "\n",
    "import os, PIL, pathlib,random\n",
    "\n",
    "device = torch.device(\"cuda:0\" if torch.cuda.is_available() else \"cpu\")\n",
    "device"
   ]
  },
  {
   "cell_type": "code",
   "execution_count": 4,
   "metadata": {},
   "outputs": [
    {
     "data": {
      "text/plain": [
       "['Others', 'Monkeypox']"
      ]
     },
     "execution_count": 4,
     "metadata": {},
     "output_type": "execute_result"
    }
   ],
   "source": [
    "data_dir = '/Users/montylee/NJUPT/Learn/Github/deeplearning/pytorch/P4/datasets/res_data'\n",
    "classNames = os.listdir(data_dir)\n",
    "classNames"
   ]
  },
  {
   "cell_type": "code",
   "execution_count": 5,
   "metadata": {},
   "outputs": [
    {
     "data": {
      "text/plain": [
       "Dataset ImageFolder\n",
       "    Number of datapoints: 4284\n",
       "    Root location: /Users/montylee/NJUPT/Learn/Github/deeplearning/pytorch/P4/datasets/res_data\n",
       "    StandardTransform\n",
       "Transform: Compose(\n",
       "               Resize(size=(256, 256), interpolation=bilinear, max_size=None, antialias=warn)\n",
       "               RandomCrop(size=(224, 224), padding=None)\n",
       "               RandomHorizontalFlip(p=0.5)\n",
       "               RandomRotation(degrees=[-15.0, 15.0], interpolation=nearest, expand=False, fill=0)\n",
       "               ColorJitter(brightness=(0.8, 1.2), contrast=(0.8, 1.2), saturation=(0.8, 1.2), hue=(-0.1, 0.1))\n",
       "               ToTensor()\n",
       "               Normalize(mean=[0.485, 0.456, 0.406], std=[0.229, 0.224, 0.225])\n",
       "           )"
      ]
     },
     "execution_count": 5,
     "metadata": {},
     "output_type": "execute_result"
    }
   ],
   "source": [
    "# 在机器学习中，归一化是一种常用的数据预处理技术，\n",
    "# 它的作用是使输入数据在所有特征维度上具有相似的尺度，从而提高模型训练的稳定性和收敛速度。\n",
    "\n",
    "train_transforms = transforms.Compose([\n",
    "    transforms.Resize((256, 256)),  # Resize to 256x256\n",
    "    transforms.RandomCrop((224, 224)),  # Randomly crop a 224x224 patch\n",
    "    transforms.RandomHorizontalFlip(p=0.5),  # Randomly flip the image horizontally with a probability of 0.5\n",
    "    transforms.RandomRotation(degrees=15),  # Randomly rotate the image by up to 15 degrees\n",
    "    transforms.ColorJitter(brightness=0.2, contrast=0.2, saturation=0.2, hue=0.1),  # Randomly adjust brightness, contrast, saturation, and hue\n",
    "    transforms.ToTensor(),\n",
    "    transforms.Normalize(\n",
    "        mean=[0.485, 0.456, 0.406],\n",
    "        std=[0.229, 0.224, 0.225])\n",
    "])\n",
    "\n",
    "total_data = datasets.ImageFolder(data_dir, transform=train_transforms)\n",
    "total_data\n"
   ]
  },
  {
   "cell_type": "code",
   "execution_count": 4,
   "metadata": {},
   "outputs": [
    {
     "data": {
      "text/plain": [
       "{'Monkeypox': 0, 'Others': 1}"
      ]
     },
     "execution_count": 4,
     "metadata": {},
     "output_type": "execute_result"
    }
   ],
   "source": [
    "total_data.class_to_idx"
   ]
  },
  {
   "cell_type": "code",
   "execution_count": 5,
   "metadata": {},
   "outputs": [
    {
     "data": {
      "text/plain": [
       "(<torch.utils.data.dataset.Subset at 0x110b0b010>,\n",
       " <torch.utils.data.dataset.Subset at 0x110b0bbb0>,\n",
       " 3427,\n",
       " 857)"
      ]
     },
     "execution_count": 5,
     "metadata": {},
     "output_type": "execute_result"
    }
   ],
   "source": [
    "train_size = int(0.8 * len(total_data))\n",
    "test_size = len(total_data) - train_size\n",
    "train_dataset, test_dataset = torch.utils.data.random_split(total_data, [train_size, test_size])\n",
    "train_dataset, test_dataset, train_size, test_size"
   ]
  },
  {
   "cell_type": "code",
   "execution_count": 6,
   "metadata": {},
   "outputs": [],
   "source": [
    "batch_size = 32\n",
    "\n",
    "train_dl = torch.utils.data.DataLoader(train_dataset, batch_size=batch_size, shuffle=True,num_workers=1)\n",
    "test_dl = torch.utils.data.DataLoader(test_dataset, batch_size=batch_size, shuffle=True,num_workers=1)"
   ]
  },
  {
   "cell_type": "code",
   "execution_count": 7,
   "metadata": {},
   "outputs": [
    {
     "name": "stdout",
     "output_type": "stream",
     "text": [
      "torch.Size([32, 3, 224, 224])\n",
      "torch.Size([32])\n"
     ]
    }
   ],
   "source": [
    "for x,y in train_dl:\n",
    "    print(x.shape)\n",
    "    print(y.shape)\n",
    "    break"
   ]
  },
  {
   "cell_type": "code",
   "execution_count": 8,
   "metadata": {},
   "outputs": [
    {
     "data": {
      "text/plain": [
       "Network(\n",
       "  (conv1): Conv2d(3, 6, kernel_size=(5, 5), stride=(1, 1))\n",
       "  (conv2): Conv2d(6, 16, kernel_size=(5, 5), stride=(1, 1))\n",
       "  (fc1): Linear(in_features=44944, out_features=120, bias=True)\n",
       "  (fc2): Linear(in_features=120, out_features=84, bias=True)\n",
       "  (fc3): Linear(in_features=84, out_features=2, bias=True)\n",
       "  (dropout): Dropout(p=0.5, inplace=False)\n",
       ")"
      ]
     },
     "execution_count": 8,
     "metadata": {},
     "output_type": "execute_result"
    }
   ],
   "source": [
    "class Network(nn.Module):\n",
    "    def __init__(self):\n",
    "        super(Network, self).__init__()\n",
    "        self.conv1 = nn.Conv2d(3, 6, 5)\n",
    "        self.conv2 = nn.Conv2d(6, 16, 5)\n",
    "        self.fc1 = nn.Linear(16 * 53 * 53, 120)\n",
    "        self.fc2 = nn.Linear(120, 84)\n",
    "        self.fc3 = nn.Linear(84, 2)\n",
    "        self.dropout = nn.Dropout(0.5)  # Adding dropout with a probability of 0.5\n",
    "\n",
    "    def forward(self, x):\n",
    "        x = F.max_pool2d(F.relu(self.conv1(x)), 2)\n",
    "        x = F.max_pool2d(F.relu(self.conv2(x)), 2)\n",
    "        x = x.view(-1, 16 * 53 * 53)\n",
    "        x = F.relu(self.fc1(x))\n",
    "        x = self.dropout(x)  # Applying dropout after the first fully connected layer\n",
    "        x = F.relu(self.fc2(x))\n",
    "        x = self.dropout(x)  # Applying dropout after the second fully connected layer\n",
    "        x = self.fc3(x)\n",
    "        x = F.log_softmax(x, dim=1)\n",
    "        return x\n",
    "\n",
    "model = Network()\n",
    "model"
   ]
  },
  {
   "cell_type": "code",
   "execution_count": 9,
   "metadata": {},
   "outputs": [],
   "source": [
    "# 2. 定义损失函数和优化器\n",
    "loss_fn = nn.CrossEntropyLoss()\n",
    "leaining_rate = 0.001\n",
    "opt = torch.optim.Adam(model.parameters(),lr=leaining_rate)"
   ]
  },
  {
   "cell_type": "code",
   "execution_count": 10,
   "metadata": {},
   "outputs": [],
   "source": [
    "# 3. 训练函数\n",
    "def train(dataloader, model, loss_fn, optimizer):\n",
    "    size = len(dataloader.dataset)\n",
    "    num_batches = len(dataloader)\n",
    "\n",
    "    train_loss, train_acc = 0, 0\n",
    "    for x, y in dataloader:\n",
    "        x, y  = x.to(device), y.to(device)\n",
    "\n",
    "        # Compute prediction error\n",
    "        pred = model(x) # 网络输出\n",
    "        loss = loss_fn(pred, y) # 计算损失\n",
    "\n",
    "        optimizer.zero_grad() # 梯度清零\n",
    "        loss.backward() # 反向传播\n",
    "        optimizer.step() # 更新参数\n",
    "\n",
    "        train_acc += (pred.argmax(1) == y).type(torch.float).sum().item()\n",
    "        train_loss += loss.item()\n",
    "\n",
    "    train_acc /= size\n",
    "    train_loss /= num_batches\n",
    "\n",
    "    return train_acc, train_loss"
   ]
  },
  {
   "cell_type": "code",
   "execution_count": 11,
   "metadata": {},
   "outputs": [],
   "source": [
    "# 4. 测试函数\n",
    "def test(dataloader, model, loss_fn):\n",
    "    size = len(dataloader.dataset)\n",
    "    num_batches = len(dataloader)\n",
    "\n",
    "    test_loss, test_acc = 0, 0\n",
    "    with torch.no_grad():\n",
    "        for x, y in dataloader:\n",
    "            x, y  = x.to(device), y.to(device)\n",
    "\n",
    "            pred = model(x)\n",
    "            loss = loss_fn(pred, y)\n",
    "            \n",
    "            test_loss += loss_fn(pred, y).item()\n",
    "            test_acc += (pred.argmax(1) == y).type(torch.float).sum().item()\n",
    "\n",
    "    test_acc /= size\n",
    "    test_loss /= num_batches\n",
    "\n",
    "    return test_acc, test_loss"
   ]
  },
  {
   "cell_type": "code",
   "execution_count": 12,
   "metadata": {},
   "outputs": [
    {
     "name": "stdout",
     "output_type": "stream",
     "text": [
      "Epoch: 1, Train_acc:60.8%, Train_loss:0.680, Test_acc:65.1%, Test_loss:0.637\n",
      "Epoch: 2, Train_acc:64.1%, Train_loss:0.641, Test_acc:65.0%, Test_loss:0.632\n",
      "Epoch: 3, Train_acc:66.3%, Train_loss:0.637, Test_acc:65.5%, Test_loss:0.625\n",
      "Epoch: 4, Train_acc:65.7%, Train_loss:0.633, Test_acc:66.0%, Test_loss:0.658\n",
      "Epoch: 5, Train_acc:65.5%, Train_loss:0.652, Test_acc:66.3%, Test_loss:0.619\n",
      "Epoch: 6, Train_acc:66.2%, Train_loss:0.637, Test_acc:65.3%, Test_loss:0.649\n",
      "Epoch: 7, Train_acc:62.4%, Train_loss:0.649, Test_acc:67.9%, Test_loss:0.600\n",
      "Epoch: 8, Train_acc:68.3%, Train_loss:0.611, Test_acc:66.7%, Test_loss:0.608\n",
      "Epoch: 9, Train_acc:67.9%, Train_loss:0.612, Test_acc:68.3%, Test_loss:0.580\n",
      "Epoch:10, Train_acc:70.7%, Train_loss:0.586, Test_acc:69.4%, Test_loss:0.590\n",
      "Epoch:11, Train_acc:70.8%, Train_loss:0.585, Test_acc:72.2%, Test_loss:0.568\n",
      "Epoch:12, Train_acc:71.3%, Train_loss:0.573, Test_acc:69.4%, Test_loss:0.577\n",
      "Epoch:13, Train_acc:70.3%, Train_loss:0.578, Test_acc:70.5%, Test_loss:0.564\n",
      "Epoch:14, Train_acc:71.8%, Train_loss:0.564, Test_acc:71.2%, Test_loss:0.561\n",
      "Epoch:15, Train_acc:71.5%, Train_loss:0.566, Test_acc:71.8%, Test_loss:0.538\n",
      "Epoch:16, Train_acc:72.4%, Train_loss:0.556, Test_acc:75.5%, Test_loss:0.523\n",
      "Epoch:17, Train_acc:73.1%, Train_loss:0.553, Test_acc:72.6%, Test_loss:0.521\n",
      "Epoch:18, Train_acc:73.3%, Train_loss:0.546, Test_acc:73.6%, Test_loss:0.515\n",
      "Epoch:19, Train_acc:73.7%, Train_loss:0.548, Test_acc:73.7%, Test_loss:0.526\n",
      "Epoch:20, Train_acc:74.8%, Train_loss:0.534, Test_acc:75.0%, Test_loss:0.510\n",
      "Epoch:21, Train_acc:73.9%, Train_loss:0.538, Test_acc:75.1%, Test_loss:0.498\n",
      "Epoch:22, Train_acc:75.6%, Train_loss:0.520, Test_acc:76.1%, Test_loss:0.516\n",
      "Epoch:23, Train_acc:73.8%, Train_loss:0.526, Test_acc:76.3%, Test_loss:0.496\n",
      "Epoch:24, Train_acc:75.3%, Train_loss:0.509, Test_acc:76.1%, Test_loss:0.509\n",
      "Epoch:25, Train_acc:75.1%, Train_loss:0.515, Test_acc:77.5%, Test_loss:0.493\n",
      "Epoch:26, Train_acc:76.8%, Train_loss:0.501, Test_acc:77.4%, Test_loss:0.487\n",
      "Epoch:27, Train_acc:76.9%, Train_loss:0.504, Test_acc:79.5%, Test_loss:0.471\n",
      "Epoch:28, Train_acc:76.7%, Train_loss:0.496, Test_acc:79.3%, Test_loss:0.476\n",
      "Epoch:29, Train_acc:77.2%, Train_loss:0.498, Test_acc:78.2%, Test_loss:0.482\n",
      "Epoch:30, Train_acc:77.1%, Train_loss:0.492, Test_acc:77.7%, Test_loss:0.465\n",
      "Epoch:31, Train_acc:76.7%, Train_loss:0.507, Test_acc:78.6%, Test_loss:0.464\n",
      "Epoch:32, Train_acc:78.5%, Train_loss:0.472, Test_acc:79.9%, Test_loss:0.451\n",
      "Epoch:33, Train_acc:78.2%, Train_loss:0.483, Test_acc:80.7%, Test_loss:0.447\n",
      "Epoch:34, Train_acc:78.9%, Train_loss:0.470, Test_acc:81.9%, Test_loss:0.428\n",
      "Epoch:35, Train_acc:79.2%, Train_loss:0.475, Test_acc:81.1%, Test_loss:0.449\n",
      "Epoch:36, Train_acc:77.8%, Train_loss:0.480, Test_acc:78.6%, Test_loss:0.458\n",
      "Epoch:37, Train_acc:78.7%, Train_loss:0.461, Test_acc:81.8%, Test_loss:0.425\n",
      "Epoch:38, Train_acc:80.0%, Train_loss:0.456, Test_acc:81.8%, Test_loss:0.425\n",
      "Epoch:39, Train_acc:79.3%, Train_loss:0.460, Test_acc:80.2%, Test_loss:0.447\n",
      "Epoch:40, Train_acc:79.7%, Train_loss:0.462, Test_acc:81.8%, Test_loss:0.440\n",
      "Epoch:41, Train_acc:80.2%, Train_loss:0.449, Test_acc:81.7%, Test_loss:0.416\n",
      "Epoch:42, Train_acc:78.8%, Train_loss:0.470, Test_acc:82.5%, Test_loss:0.433\n",
      "Epoch:43, Train_acc:79.4%, Train_loss:0.461, Test_acc:82.0%, Test_loss:0.439\n",
      "Epoch:44, Train_acc:80.2%, Train_loss:0.446, Test_acc:83.0%, Test_loss:0.428\n",
      "Epoch:45, Train_acc:79.4%, Train_loss:0.458, Test_acc:82.1%, Test_loss:0.436\n",
      "Epoch:46, Train_acc:79.6%, Train_loss:0.435, Test_acc:81.7%, Test_loss:0.426\n",
      "Epoch:47, Train_acc:80.8%, Train_loss:0.438, Test_acc:82.1%, Test_loss:0.401\n",
      "Epoch:48, Train_acc:80.4%, Train_loss:0.433, Test_acc:83.7%, Test_loss:0.388\n",
      "Epoch:49, Train_acc:80.0%, Train_loss:0.437, Test_acc:83.2%, Test_loss:0.389\n",
      "Epoch:50, Train_acc:80.6%, Train_loss:0.431, Test_acc:83.9%, Test_loss:0.399\n",
      "Epoch:51, Train_acc:79.8%, Train_loss:0.435, Test_acc:82.8%, Test_loss:0.415\n",
      "Epoch:52, Train_acc:80.9%, Train_loss:0.431, Test_acc:81.9%, Test_loss:0.399\n",
      "Epoch:53, Train_acc:80.4%, Train_loss:0.436, Test_acc:83.9%, Test_loss:0.405\n",
      "Epoch:54, Train_acc:82.5%, Train_loss:0.415, Test_acc:80.0%, Test_loss:0.431\n",
      "Epoch:55, Train_acc:80.4%, Train_loss:0.441, Test_acc:85.5%, Test_loss:0.376\n",
      "Epoch:56, Train_acc:81.1%, Train_loss:0.416, Test_acc:83.8%, Test_loss:0.401\n",
      "Epoch:57, Train_acc:80.6%, Train_loss:0.440, Test_acc:84.1%, Test_loss:0.391\n",
      "Epoch:58, Train_acc:80.7%, Train_loss:0.433, Test_acc:82.1%, Test_loss:0.405\n",
      "Epoch:59, Train_acc:82.4%, Train_loss:0.417, Test_acc:84.6%, Test_loss:0.372\n",
      "Epoch:60, Train_acc:80.9%, Train_loss:0.419, Test_acc:84.1%, Test_loss:0.383\n",
      "Epoch:61, Train_acc:83.7%, Train_loss:0.395, Test_acc:80.4%, Test_loss:0.444\n",
      "Epoch:62, Train_acc:81.9%, Train_loss:0.407, Test_acc:82.5%, Test_loss:0.397\n",
      "Epoch:63, Train_acc:81.9%, Train_loss:0.417, Test_acc:81.6%, Test_loss:0.428\n",
      "Epoch:64, Train_acc:82.7%, Train_loss:0.400, Test_acc:84.5%, Test_loss:0.373\n",
      "Epoch:65, Train_acc:82.9%, Train_loss:0.384, Test_acc:84.5%, Test_loss:0.372\n",
      "Epoch:66, Train_acc:83.7%, Train_loss:0.394, Test_acc:84.5%, Test_loss:0.386\n",
      "Epoch:67, Train_acc:82.0%, Train_loss:0.413, Test_acc:84.8%, Test_loss:0.366\n",
      "Epoch:68, Train_acc:82.1%, Train_loss:0.408, Test_acc:85.4%, Test_loss:0.373\n",
      "Epoch:69, Train_acc:82.3%, Train_loss:0.405, Test_acc:86.1%, Test_loss:0.362\n",
      "Epoch:70, Train_acc:83.6%, Train_loss:0.395, Test_acc:83.5%, Test_loss:0.389\n",
      "Epoch:71, Train_acc:83.3%, Train_loss:0.383, Test_acc:85.1%, Test_loss:0.360\n",
      "Epoch:72, Train_acc:83.3%, Train_loss:0.399, Test_acc:86.8%, Test_loss:0.353\n",
      "Epoch:73, Train_acc:83.3%, Train_loss:0.391, Test_acc:86.1%, Test_loss:0.361\n",
      "Epoch:74, Train_acc:84.0%, Train_loss:0.378, Test_acc:85.8%, Test_loss:0.347\n",
      "Epoch:75, Train_acc:84.4%, Train_loss:0.364, Test_acc:87.2%, Test_loss:0.353\n",
      "Epoch:76, Train_acc:83.4%, Train_loss:0.387, Test_acc:86.8%, Test_loss:0.360\n",
      "Epoch:77, Train_acc:83.3%, Train_loss:0.397, Test_acc:85.4%, Test_loss:0.355\n",
      "Epoch:78, Train_acc:84.1%, Train_loss:0.394, Test_acc:85.6%, Test_loss:0.346\n",
      "Epoch:79, Train_acc:82.6%, Train_loss:0.394, Test_acc:85.1%, Test_loss:0.354\n",
      "Epoch:80, Train_acc:83.6%, Train_loss:0.376, Test_acc:87.4%, Test_loss:0.316\n",
      "Epoch:81, Train_acc:83.5%, Train_loss:0.371, Test_acc:84.7%, Test_loss:0.346\n",
      "Epoch:82, Train_acc:84.4%, Train_loss:0.366, Test_acc:86.3%, Test_loss:0.334\n",
      "Epoch:83, Train_acc:85.6%, Train_loss:0.355, Test_acc:86.5%, Test_loss:0.332\n",
      "Epoch:84, Train_acc:84.2%, Train_loss:0.376, Test_acc:89.0%, Test_loss:0.323\n",
      "Epoch:85, Train_acc:84.2%, Train_loss:0.362, Test_acc:84.9%, Test_loss:0.341\n",
      "Epoch:86, Train_acc:84.9%, Train_loss:0.359, Test_acc:85.4%, Test_loss:0.346\n",
      "Epoch:87, Train_acc:84.5%, Train_loss:0.360, Test_acc:86.8%, Test_loss:0.321\n",
      "Epoch:88, Train_acc:84.4%, Train_loss:0.372, Test_acc:88.0%, Test_loss:0.315\n",
      "Epoch:89, Train_acc:85.2%, Train_loss:0.347, Test_acc:86.8%, Test_loss:0.331\n",
      "Epoch:90, Train_acc:85.6%, Train_loss:0.346, Test_acc:87.4%, Test_loss:0.315\n",
      "Epoch:91, Train_acc:84.8%, Train_loss:0.338, Test_acc:87.5%, Test_loss:0.319\n",
      "Epoch:92, Train_acc:85.2%, Train_loss:0.349, Test_acc:87.2%, Test_loss:0.309\n",
      "Epoch:93, Train_acc:85.1%, Train_loss:0.343, Test_acc:87.5%, Test_loss:0.316\n",
      "Epoch:94, Train_acc:85.7%, Train_loss:0.331, Test_acc:88.7%, Test_loss:0.327\n",
      "Epoch:95, Train_acc:86.3%, Train_loss:0.329, Test_acc:87.7%, Test_loss:0.315\n",
      "Epoch:96, Train_acc:87.0%, Train_loss:0.310, Test_acc:86.7%, Test_loss:0.311\n",
      "Epoch:97, Train_acc:85.7%, Train_loss:0.340, Test_acc:88.7%, Test_loss:0.315\n",
      "Epoch:98, Train_acc:85.8%, Train_loss:0.335, Test_acc:86.1%, Test_loss:0.317\n",
      "Epoch:99, Train_acc:86.9%, Train_loss:0.311, Test_acc:88.2%, Test_loss:0.288\n",
      "Epoch:100, Train_acc:86.5%, Train_loss:0.320, Test_acc:90.1%, Test_loss:0.276\n",
      "Done\n"
     ]
    }
   ],
   "source": [
    "# 正式训练\n",
    "epoches = 150\n",
    "train_loss = []\n",
    "train_acc = []\n",
    "test_loss = []\n",
    "test_acc = []\n",
    "\n",
    "for epoch in range(epoches):\n",
    "    model.train()\n",
    "    epoch_train_acc, epoch_train_loss = train(train_dl, model, loss_fn, opt)\n",
    "\n",
    "    model.eval()\n",
    "    epoch_test_acc, epoch_test_loss = test(test_dl, model, loss_fn)\n",
    "\n",
    "    train_acc.append(epoch_train_acc)\n",
    "    train_loss.append(epoch_train_loss)\n",
    "    test_acc.append(epoch_test_acc)\n",
    "    test_loss.append(epoch_test_loss)\n",
    "\n",
    "    template = ('Epoch:{:2d}, Train_acc:{:.1f}%, Train_loss:{:.3f}, Test_acc:{:.1f}%, Test_loss:{:.3f}') \n",
    "    print(template.format(epoch+1, epoch_train_acc*100, epoch_train_loss, epoch_test_acc*100, epoch_test_loss)) \n",
    "    \n",
    "print('Done')"
   ]
  },
  {
   "cell_type": "code",
   "execution_count": 14,
   "metadata": {},
   "outputs": [
    {
     "data": {
      "image/png": "[encoded data removed]",
      "text/plain": [
       "<Figure size 1200x300 with 2 Axes>"
      ]
     },
     "metadata": {},
     "output_type": "display_data"
    }
   ],
   "source": [
    "import matplotlib.pyplot as plt\n",
    "\n",
    "epochs_range = range(epoches)\n",
    "# print(epochs_range)\n",
    "\n",
    "plt.figure(figsize = (12, 3))\n",
    "plt.subplot(1, 2, 1)\n",
    "plt.plot(epochs_range, train_acc, label = 'Training Accuracy')\n",
    "plt.plot(epochs_range, test_acc, label = 'Test Accuracy')\n",
    "plt.xlim((0,20))\n",
    "plt.xticks(range(0,epoches+10,10))\n",
    "plt.legend()\n",
    "plt.title('Training and Validation Accuracy')\n",
    "\n",
    "plt.subplot(1, 2, 2)\n",
    "plt.plot(epochs_range, train_loss, label = 'Training Loss')\n",
    "plt.plot(epochs_range, test_loss, label = 'Test Loss')\n",
    "plt.xlim((0,20))\n",
    "plt.xticks(range(0,epoches+10,10))\n",
    "plt.legend()\n",
    "plt.title('Training and Validation Loss')\n",
    "plt.show()"
   ]
  },
  {
   "cell_type": "code",
   "execution_count": 6,
   "metadata": {},
   "outputs": [
    {
     "ename": "NameError",
     "evalue": "name 'model' is not defined",
     "output_type": "error",
     "traceback": [
      "\u001b[0;31m---------------------------------------------------------------------------\u001b[0m",
      "\u001b[0;31mNameError\u001b[0m                                 Traceback (most recent call last)",
      "Cell \u001b[0;32mIn[6], line 21\u001b[0m\n\u001b[1;32m     16\u001b[0m     pred_class \u001b[39m=\u001b[39m classes[pred]\n\u001b[1;32m     17\u001b[0m     \u001b[39mprint\u001b[39m(\u001b[39mf\u001b[39m\u001b[39m'\u001b[39m\u001b[39m预测结果：\u001b[39m\u001b[39m{\u001b[39;00mpred_class\u001b[39m}\u001b[39;00m\u001b[39m'\u001b[39m)\n\u001b[1;32m     20\u001b[0m predict_image(image_path\u001b[39m=\u001b[39m\u001b[39m'\u001b[39m\u001b[39m/Users/montylee/NJUPT/Learn/Github/deeplearning/pytorch/P4/datasets/ori_data/Monkeypox/M01_01_01.jpg\u001b[39m\u001b[39m'\u001b[39m,\n\u001b[0;32m---> 21\u001b[0m               model \u001b[39m=\u001b[39m model,\n\u001b[1;32m     22\u001b[0m               transform \u001b[39m=\u001b[39m train_transforms,\n\u001b[1;32m     23\u001b[0m               classes \u001b[39m=\u001b[39m claeees)\n",
      "\u001b[0;31mNameError\u001b[0m: name 'model' is not defined"
     ]
    }
   ],
   "source": [
    "# 指定图片预测\n",
    "from PIL import Image\n",
    "claeees = list(total_data.class_to_idx)\n",
    "\n",
    "def predict_image(image_path, model, transform, classes):\n",
    "    test_img = Image.open(image_path).convert('RGB')\n",
    "    # plt.imshow(test_img)\n",
    "\n",
    "    test_img_tensor = transform(test_img)\n",
    "    img = test_img_tensor.to(device).unsqueeze(0)\n",
    "\n",
    "    model.eval()\n",
    "    output = model(img)\n",
    "\n",
    "    _,pred = torch.max(output, 1)\n",
    "    pred_class = classes[pred]\n",
    "    print(f'预测结果：{pred_class}')\n",
    "\n",
    "\n",
    "predict_image(image_path='/Users/montylee/NJUPT/Learn/Github/deeplearning/pytorch/P4/datasets/ori_data/Monkeypox/M01_01_01.jpg',\n",
    "              model = model,\n",
    "              transform = train_transforms,\n",
    "              classes = claeees)\n",
    "\n"
   ]
  },
  {
   "cell_type": "code",
   "execution_count": null,
   "metadata": {},
   "outputs": [],
   "source": [
    "# 模型保存 \n",
    "\n",
    "PATH = './model.pth' # 保存的参数文件名 \n",
    "torch.save(model.state_dict(), PATH) # 将参数加载到model当中 \n",
    "model.load_state_dict(torch.load(PATH, map_location=device))"
   ]
  }
 ],
 "metadata": {
  "kernelspec": {
   "display_name": "pytorch",
   "language": "python",
   "name": "python3"
  },
  "language_info": {
   "codemirror_mode": {
    "name": "ipython",
    "version": 3
   },
   "file_extension": ".py",
   "mimetype": "text/x-python",
   "name": "python",
   "nbconvert_exporter": "python",
   "pygments_lexer": "ipython3",
   "version": "3.10.11"
  },
  "orig_nbformat": 4
 },
 "nbformat": 4,
 "nbformat_minor": 2
}
