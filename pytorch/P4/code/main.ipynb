{
 "cells": [
  {
   "cell_type": "code",
   "execution_count": 1,
   "metadata": {},
   "outputs": [
    {
     "data": {
      "text/plain": [
       "device(type='cpu')"
      ]
     },
     "execution_count": 1,
     "metadata": {},
     "output_type": "execute_result"
    }
   ],
   "source": [
    "import torch\n",
    "import torch.nn as nn\n",
    "import torch.nn.functional as F\n",
    "import torchvision\n",
    "from torchvision import datasets, transforms\n",
    "\n",
    "import os, PIL, pathlib,random\n",
    "\n",
    "device = torch.device(\"cuda:0\" if torch.cuda.is_available() else \"cpu\")\n",
    "device"
   ]
  },
  {
   "cell_type": "code",
   "execution_count": 2,
   "metadata": {},
   "outputs": [
    {
     "data": {
      "text/plain": [
       "['Others', 'Monkeypox']"
      ]
     },
     "execution_count": 2,
     "metadata": {},
     "output_type": "execute_result"
    }
   ],
   "source": [
    "data_dir = '/Users/montylee/NJUPT/Learn/Github/deeplearning/pytorch/P4/datasets/res_data'\n",
    "classNames = os.listdir(data_dir)\n",
    "classNames"
   ]
  },
  {
   "cell_type": "code",
   "execution_count": 3,
   "metadata": {},
   "outputs": [
    {
     "data": {
      "text/plain": [
       "Dataset ImageFolder\n",
       "    Number of datapoints: 4284\n",
       "    Root location: /Users/montylee/NJUPT/Learn/Github/deeplearning/pytorch/P4/datasets/res_data\n",
       "    StandardTransform\n",
       "Transform: Compose(\n",
       "               Resize(size=(224, 224), interpolation=bilinear, max_size=None, antialias=warn)\n",
       "               ToTensor()\n",
       "               Normalize(mean=[0.485, 0.456, 0.406], std=[0.229, 0.224, 0.225])\n",
       "           )"
      ]
     },
     "execution_count": 3,
     "metadata": {},
     "output_type": "execute_result"
    }
   ],
   "source": [
    "# 在机器学习中，归一化是一种常用的数据预处理技术，\n",
    "# 它的作用是使输入数据在所有特征维度上具有相似的尺度，从而提高模型训练的稳定性和收敛速度。\n",
    "\n",
    "train_transforms = transforms.Compose([\n",
    "    transforms.Resize((224,224)),\n",
    "    transforms.ToTensor(),\n",
    "    transforms.Normalize(\n",
    "    mean = [0.485,0.456,0.406], # RGB平均值\n",
    "    std = [0.229,0.224,0.225]) # RGB标准差\n",
    "])\n",
    "total_data = datasets.ImageFolder(data_dir,transform=train_transforms)\n",
    "total_data"
   ]
  },
  {
   "cell_type": "code",
   "execution_count": 4,
   "metadata": {},
   "outputs": [
    {
     "data": {
      "text/plain": [
       "{'Monkeypox': 0, 'Others': 1}"
      ]
     },
     "execution_count": 4,
     "metadata": {},
     "output_type": "execute_result"
    }
   ],
   "source": [
    "total_data.class_to_idx"
   ]
  },
  {
   "cell_type": "code",
   "execution_count": 5,
   "metadata": {},
   "outputs": [
    {
     "data": {
      "text/plain": [
       "(<torch.utils.data.dataset.Subset at 0x10437be80>,\n",
       " <torch.utils.data.dataset.Subset at 0x10437bb50>,\n",
       " 3427,\n",
       " 857)"
      ]
     },
     "execution_count": 5,
     "metadata": {},
     "output_type": "execute_result"
    }
   ],
   "source": [
    "train_size = int(0.8 * len(total_data))\n",
    "test_size = len(total_data) - train_size\n",
    "train_dataset, test_dataset = torch.utils.data.random_split(total_data, [train_size, test_size])\n",
    "train_dataset, test_dataset, train_size, test_size"
   ]
  },
  {
   "cell_type": "code",
   "execution_count": 6,
   "metadata": {},
   "outputs": [],
   "source": [
    "batch_size = 32\n",
    "\n",
    "train_dl = torch.utils.data.DataLoader(train_dataset, batch_size=batch_size, shuffle=True,num_workers=1)\n",
    "test_dl = torch.utils.data.DataLoader(test_dataset, batch_size=batch_size, shuffle=True,num_workers=1)"
   ]
  },
  {
   "cell_type": "code",
   "execution_count": 7,
   "metadata": {},
   "outputs": [
    {
     "name": "stdout",
     "output_type": "stream",
     "text": [
      "torch.Size([32, 3, 224, 224])\n",
      "torch.Size([32])\n"
     ]
    }
   ],
   "source": [
    "for x,y in train_dl:\n",
    "    print(x.shape)\n",
    "    print(y.shape)\n",
    "    break"
   ]
  },
  {
   "cell_type": "code",
   "execution_count": 8,
   "metadata": {},
   "outputs": [],
   "source": [
    "class Network(nn.Module):\n",
    "    def __init__(self):\n",
    "        super(Network, self).__init__()\n",
    "        self.conv1 = nn.Conv2d(3, 6, 5)\n",
    "        self.conv2 = nn.Conv2d(6, 16, 5)\n",
    "        self.fc1 = nn.Linear(16 * 53 * 53, 120)\n",
    "        self.fc2 = nn.Linear(120, 84)\n",
    "        self.fc3 = nn.Linear(84, 2)\n",
    "        self.dropout = nn.Dropout(0.5)  # Adding dropout with a probability of 0.5\n",
    "\n",
    "    def forward(self, x):\n",
    "        x = F.max_pool2d(F.relu(self.conv1(x)), 2)\n",
    "        x = F.max_pool2d(F.relu(self.conv2(x)), 2)\n",
    "        x = x.view(-1, 16 * 53 * 53)\n",
    "        x = F.relu(self.fc1(x))\n",
    "        x = self.dropout(x)  # Applying dropout after the first fully connected layer\n",
    "        x = F.relu(self.fc2(x))\n",
    "        x = self.dropout(x)  # Applying dropout after the second fully connected layer\n",
    "        x = self.fc3(x)\n",
    "        x = F.log_softmax(x, dim=1)\n",
    "        return x\n",
    "\n",
    "model = Network()\n"
   ]
  },
  {
   "cell_type": "code",
   "execution_count": 9,
   "metadata": {},
   "outputs": [],
   "source": [
    "# 2. 定义损失函数和优化器\n",
    "loss_fn = nn.CrossEntropyLoss()\n",
    "leaining_rate = 0.001\n",
    "opt = torch.optim.Adam(model.parameters(),lr=leaining_rate)"
   ]
  },
  {
   "cell_type": "code",
   "execution_count": 10,
   "metadata": {},
   "outputs": [],
   "source": [
    "# 3. 训练函数\n",
    "def train(dataloader, model, loss_fn, optimizer):\n",
    "    size = len(dataloader.dataset)\n",
    "    num_batches = len(dataloader)\n",
    "\n",
    "    train_loss, train_acc = 0, 0\n",
    "    for x, y in dataloader:\n",
    "        x, y  = x.to(device), y.to(device)\n",
    "\n",
    "        # Compute prediction error\n",
    "        pred = model(x) # 网络输出\n",
    "        loss = loss_fn(pred, y) # 计算损失\n",
    "\n",
    "        optimizer.zero_grad() # 梯度清零\n",
    "        loss.backward() # 反向传播\n",
    "        optimizer.step() # 更新参数\n",
    "\n",
    "        train_acc += (pred.argmax(1) == y).type(torch.float).sum().item()\n",
    "        train_loss += loss.item()\n",
    "\n",
    "    train_acc /= size\n",
    "    train_loss /= num_batches\n",
    "\n",
    "    return train_acc, train_loss"
   ]
  },
  {
   "cell_type": "code",
   "execution_count": 11,
   "metadata": {},
   "outputs": [],
   "source": [
    "# 4. 测试函数\n",
    "def test(dataloader, model, loss_fn):\n",
    "    size = len(dataloader.dataset)\n",
    "    num_batches = len(dataloader)\n",
    "\n",
    "    test_loss, test_acc = 0, 0\n",
    "    with torch.no_grad():\n",
    "        for x, y in dataloader:\n",
    "            x, y  = x.to(device), y.to(device)\n",
    "\n",
    "            pred = model(x)\n",
    "            loss = loss_fn(pred, y)\n",
    "            \n",
    "            test_loss += loss_fn(pred, y).item()\n",
    "            test_acc += (pred.argmax(1) == y).type(torch.float).sum().item()\n",
    "\n",
    "    test_acc /= size\n",
    "    test_loss /= num_batches\n",
    "\n",
    "    return test_acc, test_loss"
   ]
  },
  {
   "cell_type": "code",
   "execution_count": 12,
   "metadata": {},
   "outputs": [
    {
     "name": "stdout",
     "output_type": "stream",
     "text": [
      "Epoch: 1, Train_acc:60.4%, Train_loss:0.680, Test_acc:67.9%, Test_loss:0.629\n",
      "Epoch: 2, Train_acc:68.1%, Train_loss:0.606, Test_acc:69.2%, Test_loss:0.612\n",
      "Epoch: 3, Train_acc:74.9%, Train_loss:0.528, Test_acc:75.1%, Test_loss:0.505\n",
      "Epoch: 4, Train_acc:79.2%, Train_loss:0.443, Test_acc:83.0%, Test_loss:0.421\n",
      "Epoch: 5, Train_acc:85.8%, Train_loss:0.348, Test_acc:83.9%, Test_loss:0.413\n",
      "Epoch: 6, Train_acc:89.4%, Train_loss:0.285, Test_acc:87.5%, Test_loss:0.381\n",
      "Epoch: 7, Train_acc:93.2%, Train_loss:0.193, Test_acc:89.6%, Test_loss:0.330\n",
      "Epoch: 8, Train_acc:94.1%, Train_loss:0.166, Test_acc:90.0%, Test_loss:0.329\n",
      "Epoch: 9, Train_acc:95.2%, Train_loss:0.135, Test_acc:87.0%, Test_loss:0.398\n",
      "Epoch:10, Train_acc:95.4%, Train_loss:0.128, Test_acc:90.1%, Test_loss:0.401\n",
      "Epoch:11, Train_acc:96.6%, Train_loss:0.104, Test_acc:89.3%, Test_loss:0.396\n",
      "Epoch:12, Train_acc:97.6%, Train_loss:0.083, Test_acc:91.7%, Test_loss:0.379\n",
      "Epoch:13, Train_acc:97.7%, Train_loss:0.064, Test_acc:90.4%, Test_loss:0.389\n",
      "Epoch:14, Train_acc:97.8%, Train_loss:0.085, Test_acc:91.7%, Test_loss:0.408\n",
      "Epoch:15, Train_acc:97.3%, Train_loss:0.090, Test_acc:91.0%, Test_loss:0.366\n",
      "Epoch:16, Train_acc:98.3%, Train_loss:0.047, Test_acc:91.2%, Test_loss:0.506\n",
      "Epoch:17, Train_acc:98.6%, Train_loss:0.041, Test_acc:91.7%, Test_loss:0.433\n",
      "Epoch:18, Train_acc:98.8%, Train_loss:0.050, Test_acc:90.5%, Test_loss:0.484\n",
      "Epoch:19, Train_acc:98.9%, Train_loss:0.034, Test_acc:91.4%, Test_loss:0.518\n",
      "Epoch:20, Train_acc:98.9%, Train_loss:0.028, Test_acc:90.9%, Test_loss:0.505\n",
      "Done\n"
     ]
    }
   ],
   "source": [
    "# 正式训练\n",
    "epoches = 20\n",
    "train_loss = []\n",
    "train_acc = []\n",
    "test_loss = []\n",
    "test_acc = []\n",
    "\n",
    "for epoch in range(epoches):\n",
    "    model.train()\n",
    "    epoch_train_acc, epoch_train_loss = train(train_dl, model, loss_fn, opt)\n",
    "\n",
    "    model.eval()\n",
    "    epoch_test_acc, epoch_test_loss = test(test_dl, model, loss_fn)\n",
    "\n",
    "    train_acc.append(epoch_train_acc)\n",
    "    train_loss.append(epoch_train_loss)\n",
    "    test_acc.append(epoch_test_acc)\n",
    "    test_loss.append(epoch_test_loss)\n",
    "\n",
    "    template = ('Epoch:{:2d}, Train_acc:{:.1f}%, Train_loss:{:.3f}, Test_acc:{:.1f}%, Test_loss:{:.3f}') \n",
    "    print(template.format(epoch+1, epoch_train_acc*100, epoch_train_loss, epoch_test_acc*100, epoch_test_loss)) \n",
    "    \n",
    "print('Done')"
   ]
  },
  {
   "cell_type": "code",
   "execution_count": 13,
   "metadata": {},
   "outputs": [
    {
     "name": "stdout",
     "output_type": "stream",
     "text": [
      "range(0, 20)\n"
     ]
    },
    {
     "data": {
      "image/png": "[encoded data removed]",
      "text/plain": [
       "<Figure size 1200x300 with 2 Axes>"
      ]
     },
     "metadata": {},
     "output_type": "display_data"
    }
   ],
   "source": [
    "import matplotlib.pyplot as plt\n",
    "\n",
    "epochs_range = range(epoches)\n",
    "print(epochs_range)\n",
    "\n",
    "plt.figure(figsize = (12, 3))\n",
    "plt.subplot(1, 2, 1)\n",
    "plt.plot(epochs_range, train_acc, label = 'Training Accuracy')\n",
    "plt.plot(epochs_range, test_acc, label = 'Test Accuracy')\n",
    "plt.legend()\n",
    "plt.title('Training and Validation Accuracy')\n",
    "\n",
    "plt.subplot(1, 2, 2)\n",
    "plt.plot(epochs_range, train_loss, label = 'Training Loss')\n",
    "plt.plot(epochs_range, test_loss, label = 'Test Loss')\n",
    "plt.legend()\n",
    "plt.title('Training and Validation Loss')\n",
    "plt.show()"
   ]
  }
 ],
 "metadata": {
  "kernelspec": {
   "display_name": "pytorch",
   "language": "python",
   "name": "python3"
  },
  "language_info": {
   "codemirror_mode": {
    "name": "ipython",
    "version": 3
   },
   "file_extension": ".py",
   "mimetype": "text/x-python",
   "name": "python",
   "nbconvert_exporter": "python",
   "pygments_lexer": "ipython3",
   "version": "3.10.11"
  },
  "orig_nbformat": 4
 },
 "nbformat": 4,
 "nbformat_minor": 2
}
